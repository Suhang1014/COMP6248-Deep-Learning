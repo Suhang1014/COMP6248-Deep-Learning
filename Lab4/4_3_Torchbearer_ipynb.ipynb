{
  "nbformat": 4,
  "nbformat_minor": 0,
  "metadata": {
    "colab": {
      "name": "“4_3_Torchbearer.ipynb”的副本",
      "version": "0.3.2",
      "provenance": [],
      "collapsed_sections": []
    },
    "kernelspec": {
      "name": "python3",
      "display_name": "Python 3"
    },
    "accelerator": "GPU"
  },
  "cells": [
    {
      "metadata": {
        "deletable": false,
        "editable": false,
        "nbgrader": {
          "checksum": "f11a376bbed2a7c76a5887d18cd70ca0",
          "grade": false,
          "grade_id": "cell-9f26189845c414a6",
          "locked": true,
          "schema_version": 1,
          "solution": false
        },
        "id": "rz6Hwr1kbom9",
        "colab_type": "text"
      },
      "cell_type": "markdown",
      "source": [
        "# Part 3: Training and evaluating an MLP classifier with Torchbearer"
      ]
    },
    {
      "metadata": {
        "deletable": false,
        "editable": false,
        "nbgrader": {
          "checksum": "bf45994f9585bb2a9b46a7e758a5640d",
          "grade": false,
          "grade_id": "cell-6e0f33a0a40b7f84",
          "locked": true,
          "schema_version": 1,
          "solution": false
        },
        "id": "CoFikQqpbonB",
        "colab_type": "code",
        "outputId": "b021c2d9-c10a-4823-8c1d-06d0fef3ce77",
        "colab": {
          "base_uri": "https://localhost:8080/",
          "height": 498
        }
      },
      "cell_type": "code",
      "source": [
        "# Execute this code block to install dependencies when running on colab\n",
        "try:\n",
        "    import torch\n",
        "except:\n",
        "    from os.path import exists\n",
        "    from wheel.pep425tags import get_abbr_impl, get_impl_ver, get_abi_tag\n",
        "    platform = '{}{}-{}'.format(get_abbr_impl(), get_impl_ver(), get_abi_tag())\n",
        "    cuda_output = !ldconfig -p|grep cudart.so|sed -e 's/.*\\.\\([0-9]*\\)\\.\\([0-9]*\\)$/cu\\1\\2/'\n",
        "    accelerator = cuda_output[0] if exists('/dev/nvidia0') else 'cpu'\n",
        "\n",
        "    !pip install -q http://download.pytorch.org/whl/{accelerator}/torch-1.0.0-{platform}-linux_x86_64.whl torchvision\n",
        "\n",
        "try: \n",
        "    import torchbearer\n",
        "except:\n",
        "    !pip install torchbearer"
      ],
      "execution_count": 0,
      "outputs": [
        {
          "output_type": "stream",
          "text": [
            "Collecting torchbearer\n",
            "\u001b[?25l  Downloading https://files.pythonhosted.org/packages/9f/15/e3547a76356c3fbf7834e1c15068c94a581d332e27412bbeda9fc4b1f2e0/torchbearer-0.2.6.1.tar.gz (72kB)\n",
            "\u001b[K    100% |████████████████████████████████| 81kB 5.0MB/s \n",
            "\u001b[?25hRequirement already satisfied: torch>=0.4 in /usr/local/lib/python3.6/dist-packages (from torchbearer) (1.0.1.post2)\n",
            "Requirement already satisfied: torchvision in /usr/local/lib/python3.6/dist-packages (from torchbearer) (0.2.1)\n",
            "Requirement already satisfied: tqdm in /usr/local/lib/python3.6/dist-packages (from torchbearer) (4.28.1)\n",
            "Collecting pillow>=4.1.1 (from torchvision->torchbearer)\n",
            "\u001b[?25l  Downloading https://files.pythonhosted.org/packages/85/5e/e91792f198bbc5a0d7d3055ad552bc4062942d27eaf75c3e2783cf64eae5/Pillow-5.4.1-cp36-cp36m-manylinux1_x86_64.whl (2.0MB)\n",
            "\u001b[K    100% |████████████████████████████████| 2.0MB 14.2MB/s \n",
            "\u001b[?25hRequirement already satisfied: six in /usr/local/lib/python3.6/dist-packages (from torchvision->torchbearer) (1.11.0)\n",
            "Requirement already satisfied: numpy in /usr/local/lib/python3.6/dist-packages (from torchvision->torchbearer) (1.14.6)\n",
            "Building wheels for collected packages: torchbearer\n",
            "  Building wheel for torchbearer (setup.py) ... \u001b[?25ldone\n",
            "\u001b[?25h  Stored in directory: /root/.cache/pip/wheels/93/9b/88/4e63b9e578e0b396dac77001349a5f9ba01aa188e69435a247\n",
            "Successfully built torchbearer\n",
            "\u001b[31mimgaug 0.2.8 has requirement numpy>=1.15.0, but you'll have numpy 1.14.6 which is incompatible.\u001b[0m\n",
            "\u001b[31mfastai 1.0.46 has requirement numpy>=1.15, but you'll have numpy 1.14.6 which is incompatible.\u001b[0m\n",
            "\u001b[31malbumentations 0.1.12 has requirement imgaug<0.2.7,>=0.2.5, but you'll have imgaug 0.2.8 which is incompatible.\u001b[0m\n",
            "Installing collected packages: torchbearer, pillow\n",
            "  Found existing installation: Pillow 4.0.0\n",
            "    Uninstalling Pillow-4.0.0:\n",
            "      Successfully uninstalled Pillow-4.0.0\n",
            "Successfully installed pillow-5.4.1 torchbearer-0.2.6.1\n"
          ],
          "name": "stdout"
        },
        {
          "output_type": "display_data",
          "data": {
            "application/vnd.colab-display-data+json": {
              "pip_warning": {
                "packages": [
                  "PIL"
                ]
              }
            }
          },
          "metadata": {
            "tags": []
          }
        }
      ]
    },
    {
      "metadata": {
        "deletable": false,
        "editable": false,
        "nbgrader": {
          "checksum": "f8e6214fbb52f1b1dae608cc39a8f414",
          "grade": false,
          "grade_id": "cell-f40ada026dcaaf3d",
          "locked": true,
          "schema_version": 1,
          "solution": false
        },
        "id": "-r1X--THbonI",
        "colab_type": "text"
      },
      "cell_type": "markdown",
      "source": [
        "## Introducing Torchbearer\n",
        "You've now got to a stage where you've successfully implemented, trained and evaluated a neural network in PyTorch. You will have noticed that whilst defining the model was done in very few lines of code, that you actually had to do quite a lot of work to train and evaluate the model. Whilst the ability to have complete control over training and evaluation is useful (you'll see examples in later labs, and for the coursework you might come across situations where this is an absolute necessity), it can become rather tedious if you just want to perform a standard training and evaluation run. \n",
        "\n",
        "The [Torchbearer](https://github.com/ecs-vlc/torchbearer) library, written and maintained by members of the VLC research group in ECS, can help. Torchbearer is a model training and evaluation library that is designed to massively reduce the amount of code you need to write whilst still allowing full control over the process. \n",
        "\n",
        "The following code just reproduces the baseline MLP model implementation and loads data as we did in part 2:"
      ]
    },
    {
      "metadata": {
        "deletable": false,
        "editable": false,
        "nbgrader": {
          "checksum": "fbbc1e14a837d217ba2bdbe61d32d8b8",
          "grade": false,
          "grade_id": "cell-99d750680ef07a12",
          "locked": true,
          "schema_version": 1,
          "solution": false
        },
        "id": "dteHfgyLbonJ",
        "colab_type": "code",
        "outputId": "f5e0a34b-9c4a-4505-9522-4438b18cb5c7",
        "colab": {
          "base_uri": "https://localhost:8080/",
          "height": 119
        }
      },
      "cell_type": "code",
      "source": [
        "import torch\n",
        "import torch.nn.functional as F\n",
        "import torchvision.transforms as transforms\n",
        "from torch import nn\n",
        "from torch import optim\n",
        "from torch.utils.data import DataLoader\n",
        "from torchvision.datasets import MNIST\n",
        "\n",
        "# fix random seed for reproducibility\n",
        "seed = 7\n",
        "torch.manual_seed(seed)\n",
        "torch.backends.cudnn.deterministic = True\n",
        "torch.backends.cudnn.benchmark = False\n",
        "import numpy as np\n",
        "np.random.seed(seed)\n",
        "\n",
        "# flatten 28*28 images to a 784 vector for each image\n",
        "transform = transforms.Compose([\n",
        "    transforms.ToTensor(),  # convert to tensor\n",
        "    transforms.Lambda(lambda x: x.view(-1))  # flatten into vector\n",
        "])\n",
        "\n",
        "# load data\n",
        "trainset = MNIST(\".\", train=True, download=True, transform=transform)\n",
        "testset = MNIST(\".\", train=False, download=True, transform=transform)\n",
        "\n",
        "# create data loaders\n",
        "trainloader = DataLoader(trainset, batch_size=128, shuffle=True)\n",
        "testloader = DataLoader(testset, batch_size=128, shuffle=True)\n",
        "\n",
        "# define baseline model\n",
        "class BaselineModel(nn.Module):\n",
        "    def __init__(self, input_size, hidden_size, num_classes):\n",
        "        super(BaselineModel, self).__init__()\n",
        "        self.fc1 = nn.Linear(input_size, hidden_size) \n",
        "        self.fc2 = nn.Linear(hidden_size, num_classes)  \n",
        "    \n",
        "    def forward(self, x):\n",
        "        out = self.fc1(x)\n",
        "        out = F.relu(out)\n",
        "        out = self.fc2(out)\n",
        "        if not self.training:\n",
        "            out = F.softmax(out, dim=1)\n",
        "        return out\n",
        "\n",
        "# build the model\n",
        "model = BaselineModel(784, 784, 10)"
      ],
      "execution_count": 0,
      "outputs": [
        {
          "output_type": "stream",
          "text": [
            "Downloading http://yann.lecun.com/exdb/mnist/train-images-idx3-ubyte.gz\n",
            "Downloading http://yann.lecun.com/exdb/mnist/train-labels-idx1-ubyte.gz\n",
            "Downloading http://yann.lecun.com/exdb/mnist/t10k-images-idx3-ubyte.gz\n",
            "Downloading http://yann.lecun.com/exdb/mnist/t10k-labels-idx1-ubyte.gz\n",
            "Processing...\n",
            "Done!\n"
          ],
          "name": "stdout"
        }
      ]
    },
    {
      "metadata": {
        "deletable": false,
        "editable": false,
        "nbgrader": {
          "checksum": "168cde459e4f896bbb6bfc3f6e37ac75",
          "grade": false,
          "grade_id": "cell-dc258ff0a6778d16",
          "locked": true,
          "schema_version": 1,
          "solution": false
        },
        "id": "QoSOa9brbonN",
        "colab_type": "text"
      },
      "cell_type": "markdown",
      "source": [
        "We can use the torchbearer `Trial` class to do all the hard work in training and evaluating for us:"
      ]
    },
    {
      "metadata": {
        "deletable": false,
        "editable": false,
        "nbgrader": {
          "checksum": "595dab583eb228c55b7a53d651db0621",
          "grade": false,
          "grade_id": "cell-2f6425bc8d566229",
          "locked": true,
          "schema_version": 1,
          "solution": false
        },
        "id": "fCIvtr7nbonO",
        "colab_type": "code",
        "outputId": "53582601-c87e-4f09-b681-5ac3257e5b76",
        "colab": {
          "base_uri": "https://localhost:8080/",
          "height": 241
        }
      },
      "cell_type": "code",
      "source": [
        "import torchbearer\n",
        "\n",
        "# define the loss function and the optimiser\n",
        "loss_function = nn.CrossEntropyLoss()\n",
        "optimiser = optim.Adam(model.parameters())\n",
        "\n",
        "# Construct a trial object with the model, optimiser and loss.\n",
        "# Also specify metrics we wish to compute.\n",
        "trial = torchbearer.Trial(model, optimiser, loss_function, metrics=['loss', 'accuracy'])\n",
        "\n",
        "# Provide the data to the trial\n",
        "trial.with_generators(trainloader, test_generator=testloader)\n",
        "\n",
        "# Run 10 epochs of training\n",
        "trial.run(epochs=10)\n",
        "\n",
        "# test the performance\n",
        "results = trial.evaluate(data_key=torchbearer.TEST_DATA)\n",
        "print(results)"
      ],
      "execution_count": 0,
      "outputs": [
        {
          "output_type": "stream",
          "text": [
            "0/10(t): 100%|██████████| 469/469 [00:15<00:00, 30.00it/s, acc=0.9193, acc_std=0.2724, loss=0.2879, loss_std=0.2591, running_acc=0.9531, running_loss=0.1607]\n",
            "1/10(t): 100%|██████████| 469/469 [00:15<00:00, 30.25it/s, acc=0.9675, acc_std=0.1773, loss=0.1126, loss_std=0.04424, running_acc=0.9712, running_loss=0.09999]\n",
            "2/10(t): 100%|██████████| 469/469 [00:16<00:00, 29.10it/s, acc=0.9789, acc_std=0.1436, loss=0.0723, loss_std=0.03471, running_acc=0.9806, running_loss=0.06615]\n",
            "3/10(t): 100%|██████████| 469/469 [00:16<00:00, 29.27it/s, acc=0.9851, acc_std=0.1212, loss=0.05083, loss_std=0.02831, running_acc=0.9842, running_loss=0.05143]\n",
            "4/10(t): 100%|██████████| 469/469 [00:16<00:00, 28.83it/s, acc=0.9883, acc_std=0.1074, loss=0.03801, loss_std=0.02377, running_acc=0.9875, running_loss=0.04151]\n",
            "5/10(t): 100%|██████████| 469/469 [00:16<00:00, 29.02it/s, acc=0.9921, acc_std=0.08825, loss=0.0271, loss_std=0.01809, running_acc=0.9889, running_loss=0.03434]\n",
            "6/10(t): 100%|██████████| 469/469 [00:16<00:00, 28.88it/s, acc=0.9942, acc_std=0.07572, loss=0.02049, loss_std=0.01591, running_acc=0.9939, running_loss=0.02191]\n",
            "7/10(t): 100%|██████████| 469/469 [00:16<00:00, 28.94it/s, acc=0.996, acc_std=0.06312, loss=0.01492, loss_std=0.01269, running_acc=0.9952, running_loss=0.01597]\n",
            "8/10(t): 100%|██████████| 469/469 [00:16<00:00, 28.67it/s, acc=0.9969, acc_std=0.05529, loss=0.01219, loss_std=0.01091, running_acc=0.997, running_loss=0.01267]\n",
            "9/10(t): 100%|██████████| 469/469 [00:16<00:00, 28.63it/s, acc=0.9975, acc_std=0.04977, loss=0.009626, loss_std=0.009032, running_acc=0.9967, running_loss=0.01104]\n",
            "0/1(e): 100%|██████████| 79/79 [00:01<00:00, 42.67it/s, test_acc=0.981, test_acc_std=0.1365, test_loss=1.483, test_loss_std=0.01005]"
          ],
          "name": "stderr"
        },
        {
          "output_type": "stream",
          "text": [
            "{'test_loss': 1.4827047194106668, 'test_loss_std': 0.010050101051135659, 'test_acc': 0.981, 'test_acc_std': 0.1365247230357929}\n"
          ],
          "name": "stdout"
        },
        {
          "output_type": "stream",
          "text": [
            "\n"
          ],
          "name": "stderr"
        }
      ]
    },
    {
      "metadata": {
        "deletable": false,
        "editable": false,
        "nbgrader": {
          "checksum": "a966b84f98d44de2d220a6d993ada48e",
          "grade": false,
          "grade_id": "cell-5d3c958d1716301e",
          "locked": true,
          "schema_version": 1,
          "solution": false
        },
        "id": "KX8VRDtJbonR",
        "colab_type": "text"
      },
      "cell_type": "markdown",
      "source": [
        "You can see that training and evaluating the model prints out much more informative information as the process runs - this is particularly useful for training big models as it enables you to keep an eye on progress. You should see the accuracy matches the one from the previous part of the lab.\n",
        "\n",
        "Take some time to have a look over the [Torchbearer documentation](https://torchbearer.readthedocs.io). Once you've had a look, __use the code block below to train the model (newly initialised) with a plain Stochastic Gradient Descent optimiser with a learning rate of 0.01 (keep all other SGD parameters at their default values). In addition to computing the loss and accuracy metrics, use Torchbearer to also compute the top-5 accuracy metric which was made popular by the ImageNet challenge.__"
      ]
    },
    {
      "metadata": {
        "deletable": false,
        "nbgrader": {
          "checksum": "f38d28f2d3fc968ec52ad020e5e384dc",
          "grade": false,
          "grade_id": "cell-409fe541b92c1119",
          "locked": false,
          "schema_version": 1,
          "solution": true
        },
        "id": "NaO0IRG5bonS",
        "colab_type": "code",
        "outputId": "16a315d0-a708-433e-9e63-58a867c33a8b",
        "colab": {
          "base_uri": "https://localhost:8080/",
          "height": 241
        }
      },
      "cell_type": "code",
      "source": [
        "model = BaselineModel(784, 784, 10)\n",
        "\n",
        "# YOUR CODE HERE\n",
        "loss_function = nn.CrossEntropyLoss()\n",
        "optimiser = optim.SGD(model.parameters(), lr=0.01)\n",
        "trial = torchbearer.Trial(model, optimiser, loss_function, metrics=['loss', 'accuracy', 'top_5_acc'])\n",
        "trial.with_generators(trainloader, test_generator=testloader)\n",
        "trial.run(epochs=10)\n",
        "results = trial.evaluate(data_key=torchbearer.TEST_DATA)\n",
        "print(results)"
      ],
      "execution_count": 0,
      "outputs": [
        {
          "output_type": "stream",
          "text": [
            "0/10(t): 100%|██████████| 469/469 [00:13<00:00, 34.32it/s, acc=0.6933, acc_std=0.4611, loss=1.565, loss_std=0.4315, running_acc=0.8187, running_loss=0.9677, running_top_5_acc=0.9862, top_5_acc=0.9417, top_5_acc_std=0.2344]\n",
            "1/10(t): 100%|██████████| 469/469 [00:13<00:00, 34.44it/s, acc=0.8494, acc_std=0.3577, loss=0.7012, loss_std=0.114, running_acc=0.8667, running_loss=0.5843, running_top_5_acc=0.9872, top_5_acc=0.9868, top_5_acc_std=0.1141]\n",
            "2/10(t): 100%|██████████| 469/469 [00:13<00:00, 34.35it/s, acc=0.8742, acc_std=0.3316, loss=0.506, loss_std=0.07157, running_acc=0.8872, running_loss=0.4528, running_top_5_acc=0.9905, top_5_acc=0.9891, top_5_acc_std=0.104]\n",
            "3/10(t): 100%|██████████| 469/469 [00:13<00:00, 34.67it/s, acc=0.8856, acc_std=0.3183, loss=0.4323, loss_std=0.06664, running_acc=0.8909, running_loss=0.4078, running_top_5_acc=0.993, top_5_acc=0.9908, top_5_acc_std=0.09565]\n",
            "4/10(t): 100%|██████████| 469/469 [00:13<00:00, 34.09it/s, acc=0.8933, acc_std=0.3087, loss=0.3927, loss_std=0.06681, running_acc=0.8955, running_loss=0.3877, running_top_5_acc=0.9919, top_5_acc=0.9916, top_5_acc_std=0.09136]\n",
            "5/10(t): 100%|██████████| 469/469 [00:13<00:00, 33.54it/s, acc=0.8985, acc_std=0.302, loss=0.367, loss_std=0.06764, running_acc=0.9039, running_loss=0.3475, running_top_5_acc=0.9941, top_5_acc=0.9925, top_5_acc_std=0.08656]\n",
            "6/10(t): 100%|██████████| 469/469 [00:13<00:00, 33.73it/s, acc=0.9033, acc_std=0.2955, loss=0.3485, loss_std=0.06976, running_acc=0.9062, running_loss=0.3422, running_top_5_acc=0.9936, top_5_acc=0.9931, top_5_acc_std=0.08248]\n",
            "7/10(t): 100%|██████████| 469/469 [00:13<00:00, 33.56it/s, acc=0.9067, acc_std=0.2908, loss=0.3343, loss_std=0.0705, running_acc=0.907, running_loss=0.3279, running_top_5_acc=0.9927, top_5_acc=0.9936, top_5_acc_std=0.07974]\n",
            "8/10(t): 100%|██████████| 469/469 [00:14<00:00, 32.95it/s, acc=0.9096, acc_std=0.2867, loss=0.3225, loss_std=0.07286, running_acc=0.9153, running_loss=0.308, running_top_5_acc=0.9936, top_5_acc=0.9939, top_5_acc_std=0.07776]\n",
            "9/10(t): 100%|██████████| 469/469 [00:13<00:00, 33.59it/s, acc=0.9122, acc_std=0.2831, loss=0.312, loss_std=0.06468, running_acc=0.9094, running_loss=0.32, running_top_5_acc=0.9947, top_5_acc=0.9943, top_5_acc_std=0.07528]\n",
            "0/1(e): 100%|██████████| 79/79 [00:01<00:00, 41.35it/s, test_acc=0.9176, test_acc_std=0.275, test_loss=1.603, test_loss_std=0.02582, test_top_5_acc=0.9946, test_top_5_acc_std=0.07329]"
          ],
          "name": "stderr"
        },
        {
          "output_type": "stream",
          "text": [
            "{'test_loss': 1.6033602696430833, 'test_loss_std': 0.025821954235458352, 'test_acc': 0.9176, 'test_acc_std': 0.2749731623267988, 'test_top_5_acc': 0.9946, 'test_top_5_acc_std': 0.07328601503697679}\n"
          ],
          "name": "stdout"
        },
        {
          "output_type": "stream",
          "text": [
            "\n"
          ],
          "name": "stderr"
        }
      ]
    },
    {
      "metadata": {
        "deletable": false,
        "editable": false,
        "nbgrader": {
          "checksum": "177ff0787d23ab9a38360eeda8fc5d00",
          "grade": true,
          "grade_id": "cell-bbfe8875e4e2c5e3",
          "locked": true,
          "points": 4,
          "schema_version": 1,
          "solution": false
        },
        "id": "bcpaELj0bonW",
        "colab_type": "code",
        "colab": {}
      },
      "cell_type": "code",
      "source": [
        "assert 'test_top_5_acc' in results\n"
      ],
      "execution_count": 0,
      "outputs": []
    }
  ]
}